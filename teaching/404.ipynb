{
 "cells": [
  {
   "cell_type": "markdown",
   "metadata": {},
   "source": [
    "We provide courses at the Department of Experimental Psychology, namely...\n",
    "- [Instruments of Experimental Psychology](https://studiegids.ugent.be/2019/EN/studiefiches/H002035.pdf) (aka PsychoPy)\n",
    "- [Research Project in Experimental Psychology](https://studiegids.ugent.be/2019/EN/studiefiches/H002002.pdf) (aka RPEP)\n",
    "- [Modeling Cognitive Processes](https://studiegids.ugent.be/2019/EN/studiefiches/H002000.pdf) (aka modeling)\n",
    "\n",
    "Students should subscribe via Ghent University's [Ufora](https://elosp.ugent.be/welcome) to receive all information."
   ]
  }
 ],
 "metadata": {
  "kernelspec": {
   "display_name": "Python 3",
   "language": "python",
   "name": "python3"
  },
  "language_info": {
   "codemirror_mode": {
    "name": "ipython",
    "version": 3
   },
   "file_extension": ".py",
   "mimetype": "text/x-python",
   "name": "python",
   "nbconvert_exporter": "python",
   "pygments_lexer": "ipython3",
   "version": "3.7.3"
  }
 },
 "nbformat": 4,
 "nbformat_minor": 2
}
