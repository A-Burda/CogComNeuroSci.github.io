{
 "cells": [
  {
   "cell_type": "markdown",
   "metadata": {},
   "source": [
    "<font color='white'>filler text</font>\n",
    "\n",
    "## Preprints\n",
    "- Buc Calderon, C., De Loof, E., Ergo, K., Snoeck, A., Boehler, C. N., & Verguts, T. Signed reward prediction errors in the ventral striatum drive episodic memory.\n",
    "    - [BioArxiv](https://www.biorxiv.org/content/10.1101/2020.01.03.893578v1)\n",
    "\n",
    "## Recent publications\n",
    "- Ergo, K., De Loof, E., & Verguts, T. (in press). Reward prediction error and declarative memory. _Trends in Cognitive Sciences._\n",
    "    - [PsarXiv](https://psyarxiv.com/xngwq/)\n",
    "\n",
    "- Desender, K., Boldt, A., Verguts, T., & Donner, T. (2019). Post-decisional sense of confidence shapes speed-accuracy tradeoff for subsequent choices. _eLife._\n",
    "    - [Link to online version of publication](https://kobedesender.files.wordpress.com/2019/08/elife-43499-v2.pdf)\n",
    "\n",
    "- Verbeke, P., & Verguts, T. (2019). Learning to synchronize: How biological agents can couple neural task modules for dealing with the stability-plasticity dilemma. _PLoS Computational Biology._\n",
    "    - [Link to online version of publication](https://journals.plos.org/ploscompbiol/article?id=10.1371/journal.pcbi.1006604)\n",
    "\n",
    "- De Loof, E., Vassena, E., Janssens, C., De Taeye, L., Meurs, A., Van Roost, D., … Verguts, T. (2019). Preparing for hard times : scalp and intracranial physiological signatures of proactive cognitive control. _Psychophysiology._\n",
    "     - [Link to online version of publication](https://onlinelibrary.wiley.com/doi/full/10.1111/psyp.13417)\n",
    "     \n",
    "- Ergo, K., De Loof, E., Janssens, C., & Verguts, T. (2019). Oscillatory signatures of reward prediction errors in declarative learning. _NeuroImage,186,_ 137-145.\n",
    "    - [Link to online version of publication](https://www.sciencedirect.com/science/article/abs/pii/S1053811918320676)\n",
    "\n",
    "\n",
    "- Buc Calderon, C., Gevers, W., & Verguts, T. (2018). The Unfolding Action Model of initiation times, movement times, and movement paths. _Psychological Review._\n",
    "    - [Link to online version of publication](https://biblio.ugent.be/publication/8577798)\n",
    "\n",
    "\n",
    "## Archive\n",
    "\n",
    "Our older papers are all available online through the [academic bibliography](https://biblio.ugent.be/) of Ghent University.   \n",
    "The papers associated with our lab can be found by going to [Tom's biblio page](https://biblio.ugent.be/publication?q=%22verguts+tom%22).\n"
   ]
  }
 ],
 "metadata": {
  "kernelspec": {
   "display_name": "Python 3",
   "language": "python",
   "name": "python3"
  },
  "language_info": {
   "codemirror_mode": {
    "name": "ipython",
    "version": 3
   },
   "file_extension": ".py",
   "mimetype": "text/x-python",
   "name": "python",
   "nbconvert_exporter": "python",
   "pygments_lexer": "ipython3",
   "version": "3.7.7"
  }
 },
 "nbformat": 4,
 "nbformat_minor": 2
}
