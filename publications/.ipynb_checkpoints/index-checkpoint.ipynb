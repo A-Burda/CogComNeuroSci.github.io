{
 "cells": [
  {
   "cell_type": "markdown",
   "metadata": {},
   "source": [
    "Below, we provide a small list of our newest publications.   \n",
    "By clicking on \"Direct link\", you are redirected to a .pdf version of that specific paper.   \n",
    "Alternatively, you can also opt to see the paper online by clicking on \"link to the online version\".\n",
    "\n",
    "\n",
    "## Preprints\n",
    "\n",
    "- Desender, K., Boldt, A., Verguts, T., & Donner, T. (2018). _Post-decisional sense of confidence shapes speed-accuracy tradeoff for subsequent choices._ BiorXiv.\n",
    "    - [Direct link to pdf](https://github.com/CogComNeuroSci/CogComNeuroSci.github.io/blob/master/paperwork/Post-decisional%20sense%20of%20confidence%20shapes%20speed-accuracy%20tradeoff%20for%20subsequent%20choices.pdf)\n",
    "    - [Link to online version of publication](https://www.biorxiv.org/content/10.1101/466730v1)\n",
    "\n",
    "## In press\n",
    "\n",
    "- Verbeke, P., & Verguts, T. (2019). _Learning to synchronize: How biological agents can couple neural task modules for dealing with the stability-plasticity dilemma._ PLoS Computational Biology.\n",
    "    - [Direct link to this paper](https://github.com/CogComNeuroSci/CogComNeuroSci.github.io/blob/master/paperwork/How%20biological%20agents%20can%20couple%20neural%20task%20modules%20for%20dealing%20with%20the%20stability-plasticity%20dilemma.pdf)\n",
    "    - [Link to online version of publication](https://www.biorxiv.org/content/10.1101/457150v1)\n",
    "- De Loof, E., Vassena, E., Janssens, C., De Taeye, L., Meurs, A., Van Roost, D., … Verguts, T. (in press). _Preparing for hard times : scalp and intracranial physiological signatures of proactive cognitive control._ Psychophysiology.\n",
    "    - [Direct link to this paper](https://github.com/CogComNeuroSci/CogComNeuroSci.github.io/blob/master/paperwork/Preparing%20for%20hard%20times%20_%20Scalp%20and%20intracranial%20physiological%20signatures%20of%20proactive%20cognitive%20control.pdf)\n",
    "    - [Link to online version of publication](https://onlinelibrary.wiley.com/doi/full/10.1111/psyp.13417)\n",
    "\n",
    "## Archive\n",
    "\n",
    "Our older papers are all available online through the [academic bibliography](https://biblio.ugent.be/) of Ghent University.   \n",
    "The papers associated with our lab can be found by going to [the biblio page of our PI](https://biblio.ugent.be/publication?q=%22verguts+tom%22)."
   ]
  },
  {
   "cell_type": "code",
   "execution_count": null,
   "metadata": {},
   "outputs": [],
   "source": []
  }
 ],
 "metadata": {
  "kernelspec": {
   "display_name": "Python 3",
   "language": "python",
   "name": "python3"
  },
  "language_info": {
   "codemirror_mode": {
    "name": "ipython",
    "version": 3
   },
   "file_extension": ".py",
   "mimetype": "text/x-python",
   "name": "python",
   "nbconvert_exporter": "python",
   "pygments_lexer": "ipython3",
   "version": "3.7.1"
  }
 },
 "nbformat": 4,
 "nbformat_minor": 2
}
