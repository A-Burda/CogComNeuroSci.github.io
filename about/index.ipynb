{
 "cells": [
  {
   "cell_type": "markdown",
   "metadata": {},
   "source": [
    "---\n",
    "layout: page\n",
    "title: Verguts lab members\n",
    "excerpt: \"Verguts lab - members\"\n",
    "---"
   ]
  },
  {
   "cell_type": "markdown",
   "metadata": {},
   "source": [
    "# Table of Contents\n",
    "- [Principal Investigator](#Principal-Investigator)\n",
    "- [Post-doctoral researchers](#Post-doctoral-researchers)\n",
    "- [PhD students](#PhD-students)\n",
    "- [Visiting researchers](#Visiting)\n",
    "- [Internship students](#Internship-students)"
   ]
  },
  {
   "cell_type": "markdown",
   "metadata": {},
   "source": [
    "## Principal Investigator\n",
    "\n",
    "### Tom Verguts\n",
    "\n",
    "<img src=\"/images/profile_pic_tom.jpg\" alt=\"Tom Verguts\" width=\"50%\" align=\"left\" hspace=\"20\" vspace=\"20\">\n",
    "\n",
    "__Personal statement__   \n",
    "With some effort, most people can find their way in a new city. But how they do that, remains something of a mystery. Presumably, earlier knowledge (consulting maps, asking strangers, quickly storing a spatial path, etc) is recombined in novel ways to get to your destination. In this sense, we can call this a partially novel task. The ability to perform such tasks is called cognitive control. \n",
    "\n",
    "My main interest is understanding the mechanisms of cognitive control, using behavioral, computational, and neural methods.\n",
    "\n",
    "__More information:__  \n",
    "* GitHub: [@tomverguts](https://github.com/tomverguts)\n",
    "* Email: [Tom.Verguts@UGent.be](mailto:Tom.Verguts@UGent.be)"
   ]
  },
  {
   "cell_type": "markdown",
   "metadata": {},
   "source": [
    "## Post-doctoral researchers\n",
    "\n",
    "Lorem ipsum dolor sit amet, consectetur adipiscing elit, sed do eiusmod tempor incididunt ut labore et dolore magna aliqua. Fusce id velit ut tortor pretium viverra. Neque volutpat ac tincidunt vitae semper. Urna duis convallis convallis tellus. Mi proin sed libero enim. Pharetra diam sit amet nisl. Diam in arcu cursus euismod quis viverra. Nisl tincidunt eget nullam non nisi est sit. Lacus viverra vitae congue eu consequat. Feugiat in ante metus dictum at tempor commodo ullamcorper. Mi in nulla posuere sollicitudin. Condimentum id venenatis a condimentum vitae sapien pellentesque habitant. Amet facilisis magna etiam tempor orci. Amet nulla facilisi morbi tempus iaculis urna id. Dui accumsan sit amet nulla facilisi morbi tempus iaculis.\n",
    "\n",
    "Semper auctor neque vitae tempus quam pellentesque nec. Tincidunt ornare massa eget egestas purus viverra accumsan. Arcu risus quis varius quam quisque id diam vel quam. Egestas diam in arcu cursus euismod quis viverra nibh cras. Lacus vestibulum sed arcu non. Diam vel quam elementum pulvinar etiam non quam lacus. Malesuada bibendum arcu vitae elementum curabitur vitae nunc. Vel quam elementum pulvinar etiam non quam. Porttitor leo a diam sollicitudin. Convallis aenean et tortor at risus viverra. Ut tortor pretium viverra suspendisse potenti nullam ac tortor. Enim sed faucibus turpis in eu mi. Bibendum ut tristique et egestas quis ipsum. Congue nisi vitae suscipit tellus mauris. In egestas erat imperdiet sed euismod. Sagittis eu volutpat odio facilisis mauris sit amet massa. Vulputate eu scelerisque felis imperdiet proin fermentum leo vel orci. Ullamcorper eget nulla facilisi etiam dignissim diam quis enim lobortis. Cursus turpis massa tincidunt dui ut ornare lectus sit."
   ]
  },
  {
   "cell_type": "markdown",
   "metadata": {},
   "source": [
    "## PhD students\n",
    "\n",
    "Lorem ipsum dolor sit amet, consectetur adipiscing elit, sed do eiusmod tempor incididunt ut labore et dolore magna aliqua. Fusce id velit ut tortor pretium viverra. Neque volutpat ac tincidunt vitae semper. Urna duis convallis convallis tellus. Mi proin sed libero enim. Pharetra diam sit amet nisl. Diam in arcu cursus euismod quis viverra. Nisl tincidunt eget nullam non nisi est sit. Lacus viverra vitae congue eu consequat. Feugiat in ante metus dictum at tempor commodo ullamcorper. Mi in nulla posuere sollicitudin. Condimentum id venenatis a condimentum vitae sapien pellentesque habitant. Amet facilisis magna etiam tempor orci. Amet nulla facilisi morbi tempus iaculis urna id. Dui accumsan sit amet nulla facilisi morbi tempus iaculis.\n",
    "\n",
    "Semper auctor neque vitae tempus quam pellentesque nec. Tincidunt ornare massa eget egestas purus viverra accumsan. Arcu risus quis varius quam quisque id diam vel quam. Egestas diam in arcu cursus euismod quis viverra nibh cras. Lacus vestibulum sed arcu non. Diam vel quam elementum pulvinar etiam non quam lacus. Malesuada bibendum arcu vitae elementum curabitur vitae nunc. Vel quam elementum pulvinar etiam non quam. Porttitor leo a diam sollicitudin. Convallis aenean et tortor at risus viverra. Ut tortor pretium viverra suspendisse potenti nullam ac tortor. Enim sed faucibus turpis in eu mi. Bibendum ut tristique et egestas quis ipsum. Congue nisi vitae suscipit tellus mauris. In egestas erat imperdiet sed euismod. Sagittis eu volutpat odio facilisis mauris sit amet massa. Vulputate eu scelerisque felis imperdiet proin fermentum leo vel orci. Ullamcorper eget nulla facilisi etiam dignissim diam quis enim lobortis. Cursus turpis massa tincidunt dui ut ornare lectus sit."
   ]
  },
  {
   "cell_type": "markdown",
   "metadata": {},
   "source": [
    "## Visiting\n",
    "\n",
    "Lorem ipsum dolor sit amet, consectetur adipiscing elit, sed do eiusmod tempor incididunt ut labore et dolore magna aliqua. Fusce id velit ut tortor pretium viverra. Neque volutpat ac tincidunt vitae semper. Urna duis convallis convallis tellus. Mi proin sed libero enim. Pharetra diam sit amet nisl. Diam in arcu cursus euismod quis viverra. Nisl tincidunt eget nullam non nisi est sit. Lacus viverra vitae congue eu consequat. Feugiat in ante metus dictum at tempor commodo ullamcorper. Mi in nulla posuere sollicitudin. Condimentum id venenatis a condimentum vitae sapien pellentesque habitant. Amet facilisis magna etiam tempor orci. Amet nulla facilisi morbi tempus iaculis urna id. Dui accumsan sit amet nulla facilisi morbi tempus iaculis.\n",
    "\n",
    "Semper auctor neque vitae tempus quam pellentesque nec. Tincidunt ornare massa eget egestas purus viverra accumsan. Arcu risus quis varius quam quisque id diam vel quam. Egestas diam in arcu cursus euismod quis viverra nibh cras. Lacus vestibulum sed arcu non. Diam vel quam elementum pulvinar etiam non quam lacus. Malesuada bibendum arcu vitae elementum curabitur vitae nunc. Vel quam elementum pulvinar etiam non quam. Porttitor leo a diam sollicitudin. Convallis aenean et tortor at risus viverra. Ut tortor pretium viverra suspendisse potenti nullam ac tortor. Enim sed faucibus turpis in eu mi. Bibendum ut tristique et egestas quis ipsum. Congue nisi vitae suscipit tellus mauris. In egestas erat imperdiet sed euismod. Sagittis eu volutpat odio facilisis mauris sit amet massa. Vulputate eu scelerisque felis imperdiet proin fermentum leo vel orci. Ullamcorper eget nulla facilisi etiam dignissim diam quis enim lobortis. Cursus turpis massa tincidunt dui ut ornare lectus sit."
   ]
  },
  {
   "cell_type": "markdown",
   "metadata": {},
   "source": [
    "## Internship students\n",
    "\n",
    "Lorem ipsum dolor sit amet, consectetur adipiscing elit, sed do eiusmod tempor incididunt ut labore et dolore magna aliqua. Fusce id velit ut tortor pretium viverra. Neque volutpat ac tincidunt vitae semper. Urna duis convallis convallis tellus. Mi proin sed libero enim. Pharetra diam sit amet nisl. Diam in arcu cursus euismod quis viverra. Nisl tincidunt eget nullam non nisi est sit. Lacus viverra vitae congue eu consequat. Feugiat in ante metus dictum at tempor commodo ullamcorper. Mi in nulla posuere sollicitudin. Condimentum id venenatis a condimentum vitae sapien pellentesque habitant. Amet facilisis magna etiam tempor orci. Amet nulla facilisi morbi tempus iaculis urna id. Dui accumsan sit amet nulla facilisi morbi tempus iaculis.\n",
    "\n",
    "Semper auctor neque vitae tempus quam pellentesque nec. Tincidunt ornare massa eget egestas purus viverra accumsan. Arcu risus quis varius quam quisque id diam vel quam. Egestas diam in arcu cursus euismod quis viverra nibh cras. Lacus vestibulum sed arcu non. Diam vel quam elementum pulvinar etiam non quam lacus. Malesuada bibendum arcu vitae elementum curabitur vitae nunc. Vel quam elementum pulvinar etiam non quam. Porttitor leo a diam sollicitudin. Convallis aenean et tortor at risus viverra. Ut tortor pretium viverra suspendisse potenti nullam ac tortor. Enim sed faucibus turpis in eu mi. Bibendum ut tristique et egestas quis ipsum. Congue nisi vitae suscipit tellus mauris. In egestas erat imperdiet sed euismod. Sagittis eu volutpat odio facilisis mauris sit amet massa. Vulputate eu scelerisque felis imperdiet proin fermentum leo vel orci. Ullamcorper eget nulla facilisi etiam dignissim diam quis enim lobortis. Cursus turpis massa tincidunt dui ut ornare lectus sit."
   ]
  }
 ],
 "metadata": {
  "kernelspec": {
   "display_name": "Python 3",
   "language": "python",
   "name": "python3"
  },
  "language_info": {
   "codemirror_mode": {
    "name": "ipython",
    "version": 3
   },
   "file_extension": ".py",
   "mimetype": "text/x-python",
   "name": "python",
   "nbconvert_exporter": "python",
   "pygments_lexer": "ipython3",
   "version": "3.7.3"
  }
 },
 "nbformat": 4,
 "nbformat_minor": 2
}
